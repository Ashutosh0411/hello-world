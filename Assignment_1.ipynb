{
 "cells": [
  {
   "cell_type": "markdown",
   "id": "547c394e",
   "metadata": {},
   "source": [
    "#### Assi-1 Create Regression model of your choice using suitable dataset."
   ]
  },
  {
   "cell_type": "markdown",
   "id": "67f006c4",
   "metadata": {},
   "source": [
    "##### 1. Import Dataset (Supermarket Sales)"
   ]
  },
  {
   "cell_type": "code",
   "execution_count": 2,
   "id": "1881171f",
   "metadata": {},
   "outputs": [],
   "source": [
    "import pandas as pd\n",
    "df = pd.read_csv('Datasets\\supermarket_sales - Sheet1.csv')"
   ]
  },
  {
   "cell_type": "markdown",
   "id": "0d57d552",
   "metadata": {},
   "source": [
    "##### 2. Exploring data "
   ]
  },
  {
   "cell_type": "code",
   "execution_count": 3,
   "id": "e8281ecd",
   "metadata": {},
   "outputs": [
    {
     "name": "stdout",
     "output_type": "stream",
     "text": [
      "<class 'pandas.core.frame.DataFrame'>\n",
      "RangeIndex: 150 entries, 0 to 149\n",
      "Data columns (total 17 columns):\n",
      " #   Column                   Non-Null Count  Dtype  \n",
      "---  ------                   --------------  -----  \n",
      " 0   Invoice ID               150 non-null    object \n",
      " 1   Branch                   150 non-null    object \n",
      " 2   City                     150 non-null    object \n",
      " 3   Customer type            150 non-null    object \n",
      " 4   Gender                   150 non-null    object \n",
      " 5   Product line             150 non-null    object \n",
      " 6   Unit price               150 non-null    float64\n",
      " 7   Quantity                 150 non-null    int64  \n",
      " 8   Tax 5%                   150 non-null    float64\n",
      " 9   Total                    150 non-null    float64\n",
      " 10  Date                     150 non-null    object \n",
      " 11  Time                     150 non-null    float64\n",
      " 12  Payment                  150 non-null    object \n",
      " 13  cogs                     150 non-null    float64\n",
      " 14  gross margin percentage  150 non-null    float64\n",
      " 15  gross income             150 non-null    float64\n",
      " 16  Rating                   150 non-null    float64\n",
      "dtypes: float64(8), int64(1), object(8)\n",
      "memory usage: 20.1+ KB\n",
      "None\n"
     ]
    }
   ],
   "source": [
    "print(df.info())"
   ]
  },
  {
   "cell_type": "code",
   "execution_count": 4,
   "id": "dba9f58e",
   "metadata": {},
   "outputs": [
    {
     "name": "stdout",
     "output_type": "stream",
     "text": [
      "Invoice ID                 0\n",
      "Branch                     0\n",
      "City                       0\n",
      "Customer type              0\n",
      "Gender                     0\n",
      "Product line               0\n",
      "Unit price                 0\n",
      "Quantity                   0\n",
      "Tax 5%                     0\n",
      "Total                      0\n",
      "Date                       0\n",
      "Time                       0\n",
      "Payment                    0\n",
      "cogs                       0\n",
      "gross margin percentage    0\n",
      "gross income               0\n",
      "Rating                     0\n",
      "dtype: int64\n"
     ]
    }
   ],
   "source": [
    "print(df.isnull().sum())"
   ]
  },
  {
   "cell_type": "code",
   "execution_count": 5,
   "id": "b5b6735e",
   "metadata": {},
   "outputs": [
    {
     "data": {
      "text/plain": [
       "[<matplotlib.lines.Line2D at 0x2d9f09ac3d0>]"
      ]
     },
     "execution_count": 5,
     "metadata": {},
     "output_type": "execute_result"
    },
    {
     "data": {
      "image/png": "[encoded data removed]",
      "text/plain": [
       "<Figure size 640x480 with 1 Axes>"
      ]
     },
     "metadata": {},
     "output_type": "display_data"
    }
   ],
   "source": [
    "import matplotlib.pyplot as plt\n",
    "df_new = df.drop(columns=['Invoice ID','Branch','City','Customer type','Gender','Product line','Quantity','Tax 5%','Unit price','Date','Time','Payment','cogs','gross margin percentage','gross income'\n",
    "])\n",
    "\n",
    "plt.plot(df['Rating'],df['Total'],'go')"
   ]
  },
  {
   "cell_type": "markdown",
   "id": "2345298d",
   "metadata": {},
   "source": [
    "##### 3. Linear Model"
   ]
  },
  {
   "cell_type": "code",
   "execution_count": 6,
   "id": "f6b4a4fb",
   "metadata": {},
   "outputs": [
    {
     "name": "stdout",
     "output_type": "stream",
     "text": [
      "Linear Regression: \n",
      "Mean Square error =  2.436340626973338\n",
      "R Squared =  0.02452729541426235\n"
     ]
    }
   ],
   "source": [
    "\n",
    "from sklearn.model_selection import train_test_split\n",
    "from sklearn.linear_model import LinearRegression, LogisticRegression\n",
    "from sklearn.metrics import accuracy_score, mean_squared_error, r2_score, precision_score, recall_score, f1_score\n",
    "\n",
    "\n",
    "X = df.drop(columns=['Rating','Invoice ID','Branch','City','Customer type','Gender','Product line','Quantity','Tax 5%','Unit price','Date','Time','Payment','cogs','gross margin percentage','gross income'\n",
    "])\n",
    "y=df['Rating']\n",
    "X_train, X_test, y_train, y_test = train_test_split(X, y, test_size=0.2, random_state=42)\n",
    "model = LinearRegression()\n",
    "model.fit(X_train, y_train)\n",
    "y_pred = model.predict(X_test)\n",
    "mse = mean_squared_error(y_test,y_pred)\n",
    "r_squared = r2_score(y_test,y_pred)\n",
    "print(\"Linear Regression: \")\n",
    "print(\"Mean Square error = \",mse)\n",
    "print(\"R Squared = \",r_squared)\n",
    "\n"
   ]
  },
  {
   "cell_type": "markdown",
   "id": "0a713102",
   "metadata": {},
   "source": [
    "##### 4. Logistic Regression"
   ]
  },
  {
   "cell_type": "code",
   "execution_count": 7,
   "id": "6ca8d946",
   "metadata": {},
   "outputs": [
    {
     "name": "stdout",
     "output_type": "stream",
     "text": [
      "\n",
      "Logistic Regression\n",
      "Accuracy: 1.0\n",
      "Precision: 1.0\n",
      "Recall: 1.0\n",
      "F1 Score: 1.0\n"
     ]
    }
   ],
   "source": [
    "y_binary = (df['Total'] > df['Total'].median()).astype(int)\n",
    "X_train_bin, X_test_bin, y_train_bin, y_test_bin = train_test_split(X, y_binary, test_size=0.2, random_state=42)\n",
    "logistic_model = LogisticRegression(max_iter=1000)\n",
    "logistic_model.fit(X_train_bin, y_train_bin)\n",
    "y_pred_logistic = logistic_model.predict(X_test_bin)\n",
    "print(\"\\nLogistic Regression\")\n",
    "print(\"Accuracy:\", accuracy_score(y_test_bin, y_pred_logistic))\n",
    "print(\"Precision:\", precision_score(y_test_bin, y_pred_logistic))\n",
    "print(\"Recall:\", recall_score(y_test_bin, y_pred_logistic))\n",
    "print(\"F1 Score:\", f1_score(y_test_bin, y_pred_logistic))"
   ]
  },
  {
   "cell_type": "code",
   "execution_count": 10,
   "id": "50843edb",
   "metadata": {},
   "outputs": [
    {
     "name": "stdout",
     "output_type": "stream",
     "text": [
      "\n",
      "Polynomial Logistic Regression\n",
      "Accuracy: 1.0\n",
      "Precision: 1.0\n",
      "Recall: 1.0\n",
      "F1 Score: 1.0\n"
     ]
    }
   ],
   "source": [
    "from sklearn.model_selection import train_test_split\n",
    "from sklearn.linear_model import LogisticRegression\n",
    "from sklearn.metrics import accuracy_score, precision_score, recall_score, f1_score\n",
    "from sklearn.preprocessing import PolynomialFeatures\n",
    "\n",
    "y_binary = (df['Total'] > df['Total'].median()).astype(int)\n",
    "\n",
    "X_train_bin, X_test_bin, y_train_bin, y_test_bin = train_test_split(X, y_binary, test_size=0.2, random_state=42)\n",
    "\n",
    "poly = PolynomialFeatures(degree=2)\n",
    "X_train_poly = poly.fit_transform(X_train_bin)\n",
    "X_test_poly = poly.transform(X_test_bin)\n",
    "\n",
    "logistic_model = LogisticRegression(max_iter=1000)\n",
    "logistic_model.fit(X_train_poly, y_train_bin)\n",
    "\n",
    "y_pred_logistic = logistic_model.predict(X_test_poly)\n",
    "\n",
    "print(\"\\nPolynomial Logistic Regression\")\n",
    "print(\"Accuracy:\", accuracy_score(y_test_bin, y_pred_logistic))\n",
    "print(\"Precision:\", precision_score(y_test_bin, y_pred_logistic))\n",
    "print(\"Recall:\", recall_score(y_test_bin, y_pred_logistic))\n",
    "print(\"F1 Score:\", f1_score(y_test_bin, y_pred_logistic))\n"
   ]
  },
  {
   "cell_type": "code",
   "execution_count": 11,
   "id": "15db27d6",
   "metadata": {},
   "outputs": [
    {
     "name": "stdout",
     "output_type": "stream",
     "text": [
      "\n",
      "Random Forest Regressor\n",
      "MSE:  0.0\n"
     ]
    }
   ],
   "source": [
    "from sklearn.model_selection import train_test_split\n",
    "from sklearn.ensemble import RandomForestClassifier\n",
    "from sklearn.ensemble import RandomForestRegressor\n",
    "from sklearn.metrics import accuracy_score, precision_score, recall_score, f1_score\n",
    "from sklearn.metrics import mean_squared_error\n",
    "\n",
    "# y_binary = (df['Total'] > df['Total'].median()).astype(int)\n",
    "\n",
    "X_train, X_test, y_train, y_test = train_test_split(X, y_binary, test_size=0.2, random_state=42)\n",
    "\n",
    "random_forest_model = RandomForestRegressor(n_estimators=100, random_state=42)\n",
    "random_forest_model.fit(X_train, y_train)\n",
    "\n",
    "y_pred_rf = random_forest_model.predict(X_test)\n",
    "\n",
    "print(\"\\nRandom Forest Regressor\")\n",
    "# print(\"Accuracy:\", accuracy_score(y_test_bin, y_pred_rf))\n",
    "# print(\"Precision:\", precision_score(y_test_bin, y_pred_rf))\n",
    "# print(\"Recall:\", recall_score(y_test_bin, y_pred_rf))\n",
    "# print(\"F1 Score:\", f1_score(y_test_bin, y_pred_rf))\n",
    "print(\"MSE: \", mean_squared_error(y_test, y_pred_rf))\n",
    "\n"
   ]
  }
 ],
 "metadata": {
  "kernelspec": {
   "display_name": "Python 3",
   "language": "python",
   "name": "python3"
  },
  "language_info": {
   "codemirror_mode": {
    "name": "ipython",
    "version": 3
   },
   "file_extension": ".py",
   "mimetype": "text/x-python",
   "name": "python",
   "nbconvert_exporter": "python",
   "pygments_lexer": "ipython3",
   "version": "3.11.2"
  }
 },
 "nbformat": 4,
 "nbformat_minor": 5
}
